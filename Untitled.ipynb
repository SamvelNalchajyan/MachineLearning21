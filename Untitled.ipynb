{
 "cells": [
  {
   "cell_type": "markdown",
   "id": "85ce17dc",
   "metadata": {},
   "source": [
    "# Описание задачи\n",
    "\n",
    "В наборе данных приведена информация о красных и белых винах португальской винодельни \"Vinho Verde\". Нам доступны тольно физико-химические параметры и оценки качества вина. \n",
    "Этот набор данных можно использовать для задачи классификации. Классы упорядочены и не сбалансированы. Автор данного датасета случайным образом удалил несколько значений переменных.\n",
    "\n",
    "Признаки:\n",
    "1. type\n",
    "2. fixed acidity\n",
    "3. volatile acidity\n",
    "4. citric acid\n",
    "5. residual sugar\n",
    "6. chlorides\n",
    "7. free sulfur dioxide\n",
    "8. total sulfur dioxide\n",
    "9. density\n",
    "10. pH\n",
    "11. sulphates\n",
    "12. alcohol\n",
    "13. quality"
   ]
  },
  {
   "cell_type": "markdown",
   "id": "c18aa67b",
   "metadata": {},
   "source": [
    "# Чтение данных"
   ]
  },
  {
   "cell_type": "code",
   "execution_count": 2,
   "id": "c2a2780f",
   "metadata": {},
   "outputs": [],
   "source": [
    "import numpy as np\n",
    "import matplotlib.pyplot as plt\n",
    "%matplotlib inline\n",
    "\n",
    "import pandas as pd\n",
    "import seaborn as sns\n",
    "import sklearn"
   ]
  },
  {
   "cell_type": "code",
   "execution_count": null,
   "id": "b5b6e859",
   "metadata": {},
   "outputs": [],
   "source": []
  }
 ],
 "metadata": {
  "kernelspec": {
   "display_name": "Python 3",
   "language": "python",
   "name": "python3"
  },
  "language_info": {
   "codemirror_mode": {
    "name": "ipython",
    "version": 3
   },
   "file_extension": ".py",
   "mimetype": "text/x-python",
   "name": "python",
   "nbconvert_exporter": "python",
   "pygments_lexer": "ipython3",
   "version": "3.8.8"
  }
 },
 "nbformat": 4,
 "nbformat_minor": 5
}
